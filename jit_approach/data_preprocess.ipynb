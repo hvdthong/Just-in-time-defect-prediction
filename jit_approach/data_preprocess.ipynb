{
 "cells": [
  {
   "cell_type": "code",
   "execution_count": 1,
   "metadata": {},
   "outputs": [],
   "source": [
    "from os import listdir\n",
    "from os.path import isfile, join\n",
    "from parser_commit import get_ids, info_commit\n",
    "import nltk\n",
    "from ultis import load_file"
   ]
  },
  {
   "cell_type": "code",
   "execution_count": 2,
   "metadata": {},
   "outputs": [],
   "source": [
    "def collect_labels(path_data, path_label):\n",
    "    valid_ids = get_ids([f for f in listdir(path_data) if isfile(join(path_data, f))])\n",
    "    ids, labels = [l.split('\\t')[0] for l in load_file(path_file=path_label)], [l.split('\\t')[1] for l in\n",
    "                                                                                load_file(path_file=path_label)]\n",
    "    labels_valid_ids = [labels[ids.index(v_id)] for v_id in valid_ids if v_id in ids]\n",
    "    return valid_ids, labels_valid_ids"
   ]
  },
  {
   "cell_type": "code",
   "execution_count": 3,
   "metadata": {},
   "outputs": [],
   "source": [
    "def clean_message(data):\n",
    "    new_data = [' '.join(nltk.word_tokenize(d['title'] + ' ' + d['desc'])).lower() for d in data]\n",
    "    return new_data"
   ]
  },
  {
   "cell_type": "code",
   "execution_count": null,
   "metadata": {},
   "outputs": [],
   "source": [
    "def clean_code(data):\n",
    "    "
   ]
  },
  {
   "cell_type": "code",
   "execution_count": 4,
   "metadata": {},
   "outputs": [
    {
     "name": "stdout",
     "output_type": "stream",
     "text": [
      "14494 14494 14494 14494\n"
     ]
    }
   ],
   "source": [
    "if __name__ == '__main__':\n",
    "    project = 'openstack'\n",
    "    # project = 'qt'\n",
    "    path_data = './output/' + project\n",
    "    path_label = './labels/' + project + '_ids_label.txt'\n",
    "    ids, labels = collect_labels(path_data=path_data, path_label=path_label)\n",
    "\n",
    "    messages, codes = info_commit(ids=ids, path_file=path_data)\n",
    "    print(len(ids), len(labels), len(messages), len(codes))"
   ]
  },
  {
   "cell_type": "code",
   "execution_count": 5,
   "metadata": {},
   "outputs": [
    {
     "name": "stdout",
     "output_type": "stream",
     "text": [
      "<class 'list'>\n"
     ]
    }
   ],
   "source": [
    "print(type(codes))"
   ]
  },
  {
   "cell_type": "code",
   "execution_count": 8,
   "metadata": {},
   "outputs": [
    {
     "name": "stdout",
     "output_type": "stream",
     "text": [
      "[{'file': 'diff --git a/nova/virt/libvirt/connection.py b/nova/virt/libvirt/connection.py', 'diff': [\"-                          '>',\", \"-                          '/dev/null',\"]}] <class 'list'>\n"
     ]
    }
   ],
   "source": [
    "print(codes[0], type(codes[0]))"
   ]
  },
  {
   "cell_type": "code",
   "execution_count": 25,
   "metadata": {},
   "outputs": [
    {
     "name": "stdout",
     "output_type": "stream",
     "text": [
      "<class 'dict'>\n",
      "diff --git a/nova/virt/libvirt/connection.py b/nova/virt/libvirt/connection.py\n",
      "[\"-                          '>',\", \"-                          '/dev/null',\"] 2\n",
      "[['>'], ['/dev/null']]\n"
     ]
    }
   ],
   "source": [
    "a = codes[0]\n",
    "a = a[0]\n",
    "print(type(a))\n",
    "print(a['file'])\n",
    "diff = a['diff']\n",
    "print(diff, len(diff))\n",
    "diff = [nltk.word_tokenize(l[1:].replace(\"'\", ' ').replace(',', ' ')) for l in diff]\n",
    "print (diff)"
   ]
  },
  {
   "cell_type": "code",
   "execution_count": 26,
   "metadata": {},
   "outputs": [
    {
     "name": "stdout",
     "output_type": "stream",
     "text": [
      "[{'file': 'diff --git a/nova/api/openstack/v2/extensions.py b/nova/api/openstack/v2/extensions.py', 'diff': ['-class ExtensionsXMLSerializer(wsgi.XMLDictSerializer):', '-', \"-    NSMAP = {None: xmlutil.XMLNS_V11, 'atom': xmlutil.XMLNS_ATOM}\", '-', '-    def show(self, ext_dict):', \"-        ext = etree.Element('extension', nsmap=self.NSMAP)\", \"-        self._populate_ext(ext, ext_dict['extension'])\", '-        return self._to_xml(ext)', '-', '-    def index(self, exts_dict):', \"-        exts = etree.Element('extensions', nsmap=self.NSMAP)\", \"-        for ext_dict in exts_dict['extensions']:\", \"-            ext = etree.SubElement(exts, 'extension')\", '-            self._populate_ext(ext, ext_dict)', '-        return self._to_xml(exts)', '-', '-    def _populate_ext(self, ext_elem, ext_dict):', '-        \"\"\"Populate an extension xml element from a dict.\"\"\"', '-', \"-        ext_elem.set('name', ext_dict['name'])\", \"-        ext_elem.set('namespace', ext_dict['namespace'])\", \"-        ext_elem.set('alias', ext_dict['alias'])\", \"-        ext_elem.set('updated', ext_dict['updated'])\", \"-        desc = etree.Element('description')\", \"-        desc.text = ext_dict['description']\", '-        ext_elem.append(desc)', \"-        for link in ext_dict.get('links', []):\", \"-            elem = etree.SubElement(ext_elem, '{%s}link' % xmlutil.XMLNS_ATOM)\", \"-            elem.set('rel', link['rel'])\", \"-            elem.set('href', link['href'])\", \"-            elem.set('type', link['type'])\", '-        return ext_elem', '-', '-    def _to_xml(self, root):', '-        \"\"\"Convert the xml object to an xml string.\"\"\"', '-', \"-        return etree.tostring(root, encoding='UTF-8')\", '+def make_ext(elem):', \"+    elem.set('name')\", \"+    elem.set('namespace')\", \"+    elem.set('alias')\", \"+    elem.set('updated')\", '+', \"+    desc = xmlutil.SubTemplateElement(elem, 'description')\", \"+    desc.text = 'description'\", '+', \"+    xmlutil.make_links(elem, 'links')\", '+', '+', \"+ext_nsmap = {None: xmlutil.XMLNS_V11, 'atom': xmlutil.XMLNS_ATOM}\", '+', '+', '+class ExtensionTemplate(xmlutil.TemplateBuilder):', '+    def construct(self):', \"+        root = xmlutil.TemplateElement('extension', selector='extension')\", '+        make_ext(root)', '+        return xmlutil.MasterTemplate(root, 1, nsmap=ext_nsmap)', '+', '+', '+class ExtensionsTemplate(xmlutil.TemplateBuilder):', '+    def construct(self):', \"+        root = xmlutil.TemplateElement('extensions')\", \"+        elem = xmlutil.SubTemplateElement(root, 'extension',\", \"+                                          selector='extensions')\", '+        make_ext(elem)', '+        return xmlutil.MasterTemplate(root, 1, nsmap=ext_nsmap)', '+', '+', '+class ExtensionsXMLSerializer(xmlutil.XMLTemplateSerializer):', '+    def index(self):', '+        return ExtensionsTemplate()', '+', '+    def show(self):', '+        return ExtensionTemplate()']}] 1\n"
     ]
    }
   ],
   "source": [
    "a = codes[3]\n",
    "print(a, len(a))"
   ]
  },
  {
   "cell_type": "code",
   "execution_count": null,
   "metadata": {},
   "outputs": [],
   "source": []
  },
  {
   "cell_type": "code",
   "execution_count": null,
   "metadata": {},
   "outputs": [],
   "source": [
    "messages, codes = clean_message(data=messages), clean_code(data=codes)"
   ]
  }
 ],
 "metadata": {
  "kernelspec": {
   "display_name": "Python 3",
   "language": "python",
   "name": "python3"
  },
  "language_info": {
   "codemirror_mode": {
    "name": "ipython",
    "version": 3
   },
   "file_extension": ".py",
   "mimetype": "text/x-python",
   "name": "python",
   "nbconvert_exporter": "python",
   "pygments_lexer": "ipython3",
   "version": "3.7.1"
  }
 },
 "nbformat": 4,
 "nbformat_minor": 2
}
