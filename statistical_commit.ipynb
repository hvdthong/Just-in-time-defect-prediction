{
 "cells": [
  {
   "cell_type": "code",
   "execution_count": 1,
   "metadata": {},
   "outputs": [],
   "source": [
    "from parser_commit import get_ids, info_commit\n",
    "from os import listdir\n",
    "from os.path import isfile, join\n",
    "import matplotlib.pyplot as plt"
   ]
  },
  {
   "cell_type": "code",
   "execution_count": 88,
   "metadata": {},
   "outputs": [
    {
     "name": "stdout",
     "output_type": "stream",
     "text": [
      "29239 29239 29239\n"
     ]
    }
   ],
   "source": [
    "# project = 'openstack'\n",
    "project = 'qt'\n",
    "path_data = './output/' + project\n",
    "ids = get_ids([f for f in listdir(path_data) if isfile(join(path_data, f))])\n",
    "messages, codes = info_commit(ids=ids, path_file=path_data)\n",
    "print(len(ids), len(messages), len(codes))"
   ]
  },
  {
   "cell_type": "code",
   "execution_count": 93,
   "metadata": {},
   "outputs": [],
   "source": [
    "from statistics import mean, stdev\n",
    "def statistic_msg(data, check_type):\n",
    "    if check_type == 'Title':\n",
    "        data = [d['title'] for d in data]\n",
    "    elif check_type == 'Description':\n",
    "        data = [d['desc'] for d in data]\n",
    "    elif check_type == 'Title+Description':\n",
    "        data = [d['title'] + ' ' + d['desc'] for d in data]\n",
    "    \n",
    "    data = [len(d.split()) for d in data]\n",
    "    if check_type == 'Title':\n",
    "        plt.hist(data, bins=range(0, 25))\n",
    "    elif check_type == 'Description' or check_type == 'Title+Description':\n",
    "        plt.hist(data, bins=range(0, 150))\n",
    "    plt.title(check_type)\n",
    "    plt.xlabel(\"Length\")\n",
    "    plt.ylabel(\"Frequency\")\n",
    "    return mean(data), stdev(data)"
   ]
  },
  {
   "cell_type": "code",
   "execution_count": 90,
   "metadata": {},
   "outputs": [
    {
     "name": "stdout",
     "output_type": "stream",
     "text": [
      "6.521597865864086 2.4097224161392106\n"
     ]
    },
    {
     "data": {
      "image/png": "[encoded data removed]",
      "text/plain": [
       "<Figure size 432x288 with 1 Axes>"
      ]
     },
     "metadata": {
      "needs_background": "light"
     },
     "output_type": "display_data"
    }
   ],
   "source": [
    "mean_, std_ = statistic_msg(data=messages, check_type='Title')\n",
    "print(mean_, std_)"
   ]
  },
  {
   "cell_type": "code",
   "execution_count": 94,
   "metadata": {},
   "outputs": [
    {
     "data": {
      "text/plain": [
       "(33.272307534457404, 33.89099524007475)"
      ]
     },
     "execution_count": 94,
     "metadata": {},
     "output_type": "execute_result"
    },
    {
     "data": {
      "image/png": "[encoded data removed]",
      "text/plain": [
       "<Figure size 432x288 with 1 Axes>"
      ]
     },
     "metadata": {
      "needs_background": "light"
     },
     "output_type": "display_data"
    }
   ],
   "source": [
    "statistic_msg(data=messages, check_type='Description')"
   ]
  },
  {
   "cell_type": "code",
   "execution_count": 95,
   "metadata": {},
   "outputs": [
    {
     "data": {
      "text/plain": [
       "(39.793905400321485, 34.25299302378853)"
      ]
     },
     "execution_count": 95,
     "metadata": {},
     "output_type": "execute_result"
    },
    {
     "data": {
      "image/png": "[encoded data removed]",
      "text/plain": [
       "<Figure size 432x288 with 1 Axes>"
      ]
     },
     "metadata": {
      "needs_background": "light"
     },
     "output_type": "display_data"
    }
   ],
   "source": [
    "statistic_msg(data=messages, check_type='Title+Description')"
   ]
  },
  {
   "cell_type": "code",
   "execution_count": 96,
   "metadata": {},
   "outputs": [],
   "source": [
    "def statistical_code(data, check):\n",
    "    if check == 'File':\n",
    "        data = [len(d) for d in data]\n",
    "        plt.hist(data, bins=range(0, 40))\n",
    "        plt.title(check)\n",
    "        plt.xlabel(\"Length\")\n",
    "        plt.ylabel(\"Frequency\")\n",
    "        return mean(data), stdev(data)\n",
    "    elif check == 'Code_Added':\n",
    "        new_data = list()\n",
    "        for d in data:\n",
    "            for f in d:\n",
    "                for l in f['diff']:\n",
    "                    if l.startswith('+'):\n",
    "                        if (len(l.split()) - 1) > 0:\n",
    "                            new_data.append(len(l.split()) - 1)\n",
    "        plt.hist(new_data, bins=range(0, 25))\n",
    "        plt.title(check)\n",
    "        plt.xlabel(\"Length\")\n",
    "        plt.ylabel(\"Frequency\")\n",
    "        return mean(new_data), stdev(new_data)\n",
    "    elif check == 'Code_Removed':\n",
    "        new_data = list()\n",
    "        for d in data:\n",
    "            for f in d:\n",
    "                for l in f['diff']:\n",
    "                    if l.startswith('-'):\n",
    "                        if (len(l.split()) - 1) > 0:\n",
    "                            new_data.append(len(l.split()) - 1)\n",
    "        plt.hist(new_data, bins=range(0, 25))\n",
    "        plt.title(check)\n",
    "        plt.xlabel(\"Length\")\n",
    "        plt.ylabel(\"Frequency\")\n",
    "        return mean(new_data), stdev(new_data)\n",
    "        \n",
    "    "
   ]
  },
  {
   "cell_type": "code",
   "execution_count": 97,
   "metadata": {},
   "outputs": [
    {
     "data": {
      "text/plain": [
       "(9.838537569684325, 133.61847836654704)"
      ]
     },
     "execution_count": 97,
     "metadata": {},
     "output_type": "execute_result"
    },
    {
     "data": {
      "image/png": "[encoded data removed]",
      "text/plain": [
       "<Figure size 432x288 with 1 Axes>"
      ]
     },
     "metadata": {
      "needs_background": "light"
     },
     "output_type": "display_data"
    }
   ],
   "source": [
    "statistical_code(data=codes, check='File')"
   ]
  },
  {
   "cell_type": "code",
   "execution_count": 100,
   "metadata": {},
   "outputs": [
    {
     "data": {
      "text/plain": [
       "(4.614300661928509, 4.947725643655646)"
      ]
     },
     "execution_count": 100,
     "metadata": {},
     "output_type": "execute_result"
    },
    {
     "data": {
      "image/png": "[encoded data removed]",
      "text/plain": [
       "<Figure size 432x288 with 1 Axes>"
      ]
     },
     "metadata": {
      "needs_background": "light"
     },
     "output_type": "display_data"
    }
   ],
   "source": [
    "statistical_code(data=codes, check='Code_Added')"
   ]
  },
  {
   "cell_type": "code",
   "execution_count": 101,
   "metadata": {},
   "outputs": [
    {
     "data": {
      "text/plain": [
       "(4.659788478541956, 7.364800222447066)"
      ]
     },
     "execution_count": 101,
     "metadata": {},
     "output_type": "execute_result"
    },
    {
     "data": {
      "image/png": "[encoded data removed]",
      "text/plain": [
       "<Figure size 432x288 with 1 Axes>"
      ]
     },
     "metadata": {
      "needs_background": "light"
     },
     "output_type": "display_data"
    }
   ],
   "source": [
    "statistical_code(data=codes, check='Code_Removed')"
   ]
  },
  {
   "cell_type": "code",
   "execution_count": 39,
   "metadata": {},
   "outputs": [
    {
     "name": "stdout",
     "output_type": "stream",
     "text": [
      "[{'file': 'diff --git a/test/functionalnosetests/swift_testing.py b/test/functionalnosetests/swift_testing.py', 'diff': ['+from httplib import HTTPException', '-from swiftclient import get_auth, http_connection, HTTPException', '+from swiftclient import get_auth, http_connection']}]\n",
      "180cd18da64b59c39ec1696e4316b18711d1fb82\n"
     ]
    }
   ],
   "source": [
    "print(codes[0])\n",
    "print(ids[0])"
   ]
  },
  {
   "cell_type": "code",
   "execution_count": null,
   "metadata": {},
   "outputs": [],
   "source": []
  }
 ],
 "metadata": {
  "kernelspec": {
   "display_name": "Python 3",
   "language": "python",
   "name": "python3"
  },
  "language_info": {
   "codemirror_mode": {
    "name": "ipython",
    "version": 3
   },
   "file_extension": ".py",
   "mimetype": "text/x-python",
   "name": "python",
   "nbconvert_exporter": "python",
   "pygments_lexer": "ipython3",
   "version": "3.7.1"
  }
 },
 "nbformat": 4,
 "nbformat_minor": 2
}
